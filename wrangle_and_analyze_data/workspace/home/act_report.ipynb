{
 "cells": [
  {
   "cell_type": "markdown",
   "metadata": {},
   "source": [
    "# Data Analysis and Visualization Report\n",
    "\n",
    "## Introduction\n",
    "\n",
    "In this report, we explore the cleaned tweets dataset, focusing on several insights supported by data visualizations.\n",
    "\n",
    "## Insight 1: Rating Distribution\n",
    "\n",
    "![Visualization 1](figures/bar_ratings.png)\n",
    "\n",
    "The first insight is the distribution of dog ratings. The distribution strongly correlates with a right-skewed normal distribution, suggesting that there is a bias to score dogs highly.\n",
    "\n",
    "## Insight 2: Relationship between rating and tweet length\n",
    "\n",
    "![Visualization 2](figures/scatter_rating_tweetlength.png)\n",
    "\n",
    "The second insight is the relationship between dog ratings and tweet length. The visualisation shows a polynomial trend with peak ratings in the range of 40-60 characters and decreasing with longer tweets.\n",
    "\n",
    "## Insight 3: Relationship between number of favorites and retweets\n",
    "\n",
    "![Visualization 3](figures/scatter_favorite_retweet.png)\n",
    "\n",
    "The third insight looks at the relationship between the number of favorites and retweets. It is expected that this would be a positive linear relationship, as someone who favorites a tweet would also be more likely to retweet it, and vice-versa. As shown in the plot, this assumption appears to be true and there is a strong linear correlation between the two parameters.\n",
    "\n",
    "## Insight 4: Dog stages\n",
    "\n",
    "![Visualization 3](figures/dog_cat_stats.png)\n",
    "\n",
    "Insight 4 looks at differences between the dog stages. The most popular stage by far is pupper, followed by doggo, puppo, and floofer. Interestingly, the pupper has the lowest mean rating at around 10.5, while all other dog stages have a mean rating of around 12. \n",
    "\n",
    "\n",
    "## Insight 5: Dog breeds\n",
    "\n",
    "![Visualization 3](figures/bar_chart_most_popular_dog_classifications_sorted.png)\n",
    "\n",
    "Finally, we look at the most popular dog breeds. The visualisation shows the dog breeds filtered for breeds with more than 50 individual tweets.\n",
    "\n",
    "The top 3 most popular breeds are golder retriever, labrador retriever, and pembroke."
   ]
  }
 ],
 "metadata": {
  "kernelspec": {
   "display_name": "Python 3",
   "language": "python",
   "name": "python3"
  },
  "language_info": {
   "codemirror_mode": {
    "name": "ipython",
    "version": 3
   },
   "file_extension": ".py",
   "mimetype": "text/x-python",
   "name": "python",
   "nbconvert_exporter": "python",
   "pygments_lexer": "ipython3",
   "version": "3.6.3"
  }
 },
 "nbformat": 4,
 "nbformat_minor": 2
}
